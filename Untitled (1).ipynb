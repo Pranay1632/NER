{
 "cells": [
  {
   "cell_type": "code",
   "execution_count": 3,
   "id": "610861dc-82c8-4e6e-b4f7-ce869c42cd95",
   "metadata": {},
   "outputs": [
    {
     "name": "stdout",
     "output_type": "stream",
     "text": [
      "Requirement already satisfied: PyMuPDF in c:\\users\\prana\\appdata\\local\\programs\\python\\python310\\lib\\site-packages (1.26.0)\n",
      "Requirement already satisfied: spacy in c:\\users\\prana\\appdata\\local\\programs\\python\\python310\\lib\\site-packages (3.8.7)\n",
      "Requirement already satisfied: tqdm in c:\\users\\prana\\appdata\\local\\programs\\python\\python310\\lib\\site-packages (4.67.1)\n",
      "Requirement already satisfied: srsly<3.0.0,>=2.4.3 in c:\\users\\prana\\appdata\\local\\programs\\python\\python310\\lib\\site-packages (from spacy) (2.5.1)\n",
      "Requirement already satisfied: cymem<2.1.0,>=2.0.2 in c:\\users\\prana\\appdata\\local\\programs\\python\\python310\\lib\\site-packages (from spacy) (2.0.11)\n",
      "Requirement already satisfied: wasabi<1.2.0,>=0.9.1 in c:\\users\\prana\\appdata\\local\\programs\\python\\python310\\lib\\site-packages (from spacy) (1.1.3)\n",
      "Requirement already satisfied: requests<3.0.0,>=2.13.0 in c:\\users\\prana\\appdata\\local\\programs\\python\\python310\\lib\\site-packages (from spacy) (2.32.3)\n",
      "Requirement already satisfied: preshed<3.1.0,>=3.0.2 in c:\\users\\prana\\appdata\\local\\programs\\python\\python310\\lib\\site-packages (from spacy) (3.0.10)\n",
      "Requirement already satisfied: murmurhash<1.1.0,>=0.28.0 in c:\\users\\prana\\appdata\\local\\programs\\python\\python310\\lib\\site-packages (from spacy) (1.0.13)\n",
      "Requirement already satisfied: spacy-loggers<2.0.0,>=1.0.0 in c:\\users\\prana\\appdata\\local\\programs\\python\\python310\\lib\\site-packages (from spacy) (1.0.5)\n",
      "Requirement already satisfied: typer<1.0.0,>=0.3.0 in c:\\users\\prana\\appdata\\local\\programs\\python\\python310\\lib\\site-packages (from spacy) (0.16.0)\n",
      "Requirement already satisfied: pydantic!=1.8,!=1.8.1,<3.0.0,>=1.7.4 in c:\\users\\prana\\appdata\\local\\programs\\python\\python310\\lib\\site-packages (from spacy) (2.11.4)\n",
      "Requirement already satisfied: catalogue<2.1.0,>=2.0.6 in c:\\users\\prana\\appdata\\local\\programs\\python\\python310\\lib\\site-packages (from spacy) (2.0.10)\n",
      "Requirement already satisfied: numpy>=1.19.0 in c:\\users\\prana\\appdata\\local\\programs\\python\\python310\\lib\\site-packages (from spacy) (2.1.3)\n",
      "Requirement already satisfied: langcodes<4.0.0,>=3.2.0 in c:\\users\\prana\\appdata\\local\\programs\\python\\python310\\lib\\site-packages (from spacy) (3.5.0)\n",
      "Requirement already satisfied: setuptools in c:\\users\\prana\\appdata\\local\\programs\\python\\python310\\lib\\site-packages (from spacy) (58.1.0)\n",
      "Requirement already satisfied: jinja2 in c:\\users\\prana\\appdata\\local\\programs\\python\\python310\\lib\\site-packages (from spacy) (3.1.4)\n",
      "Requirement already satisfied: spacy-legacy<3.1.0,>=3.0.11 in c:\\users\\prana\\appdata\\local\\programs\\python\\python310\\lib\\site-packages (from spacy) (3.0.12)\n",
      "Requirement already satisfied: packaging>=20.0 in c:\\users\\prana\\appdata\\local\\programs\\python\\python310\\lib\\site-packages (from spacy) (24.1)\n",
      "Requirement already satisfied: thinc<8.4.0,>=8.3.4 in c:\\users\\prana\\appdata\\local\\programs\\python\\python310\\lib\\site-packages (from spacy) (8.3.6)\n",
      "Requirement already satisfied: weasel<0.5.0,>=0.1.0 in c:\\users\\prana\\appdata\\local\\programs\\python\\python310\\lib\\site-packages (from spacy) (0.4.1)\n",
      "Requirement already satisfied: colorama in c:\\users\\prana\\appdata\\local\\programs\\python\\python310\\lib\\site-packages (from tqdm) (0.4.6)\n",
      "Requirement already satisfied: language-data>=1.2 in c:\\users\\prana\\appdata\\local\\programs\\python\\python310\\lib\\site-packages (from langcodes<4.0.0,>=3.2.0->spacy) (1.3.0)\n",
      "Requirement already satisfied: marisa-trie>=1.1.0 in c:\\users\\prana\\appdata\\local\\programs\\python\\python310\\lib\\site-packages (from language-data>=1.2->langcodes<4.0.0,>=3.2.0->spacy) (1.2.1)\n",
      "Requirement already satisfied: typing-extensions>=4.12.2 in c:\\users\\prana\\appdata\\local\\programs\\python\\python310\\lib\\site-packages (from pydantic!=1.8,!=1.8.1,<3.0.0,>=1.7.4->spacy) (4.12.2)\n",
      "Requirement already satisfied: typing-inspection>=0.4.0 in c:\\users\\prana\\appdata\\local\\programs\\python\\python310\\lib\\site-packages (from pydantic!=1.8,!=1.8.1,<3.0.0,>=1.7.4->spacy) (0.4.0)\n",
      "Requirement already satisfied: pydantic-core==2.33.2 in c:\\users\\prana\\appdata\\local\\programs\\python\\python310\\lib\\site-packages (from pydantic!=1.8,!=1.8.1,<3.0.0,>=1.7.4->spacy) (2.33.2)\n",
      "Requirement already satisfied: annotated-types>=0.6.0 in c:\\users\\prana\\appdata\\local\\programs\\python\\python310\\lib\\site-packages (from pydantic!=1.8,!=1.8.1,<3.0.0,>=1.7.4->spacy) (0.7.0)\n",
      "Requirement already satisfied: urllib3<3,>=1.21.1 in c:\\users\\prana\\appdata\\local\\programs\\python\\python310\\lib\\site-packages (from requests<3.0.0,>=2.13.0->spacy) (2.2.3)\n",
      "Requirement already satisfied: charset-normalizer<4,>=2 in c:\\users\\prana\\appdata\\local\\programs\\python\\python310\\lib\\site-packages (from requests<3.0.0,>=2.13.0->spacy) (3.3.2)\n",
      "Requirement already satisfied: idna<4,>=2.5 in c:\\users\\prana\\appdata\\local\\programs\\python\\python310\\lib\\site-packages (from requests<3.0.0,>=2.13.0->spacy) (3.10)\n",
      "Requirement already satisfied: certifi>=2017.4.17 in c:\\users\\prana\\appdata\\local\\programs\\python\\python310\\lib\\site-packages (from requests<3.0.0,>=2.13.0->spacy) (2024.8.30)\n",
      "Requirement already satisfied: blis<1.4.0,>=1.3.0 in c:\\users\\prana\\appdata\\local\\programs\\python\\python310\\lib\\site-packages (from thinc<8.4.0,>=8.3.4->spacy) (1.3.0)\n",
      "Requirement already satisfied: confection<1.0.0,>=0.0.1 in c:\\users\\prana\\appdata\\local\\programs\\python\\python310\\lib\\site-packages (from thinc<8.4.0,>=8.3.4->spacy) (0.1.5)\n",
      "Requirement already satisfied: shellingham>=1.3.0 in c:\\users\\prana\\appdata\\local\\programs\\python\\python310\\lib\\site-packages (from typer<1.0.0,>=0.3.0->spacy) (1.5.4)\n",
      "Requirement already satisfied: rich>=10.11.0 in c:\\users\\prana\\appdata\\local\\programs\\python\\python310\\lib\\site-packages (from typer<1.0.0,>=0.3.0->spacy) (14.0.0)\n",
      "Requirement already satisfied: click>=8.0.0 in c:\\users\\prana\\appdata\\local\\programs\\python\\python310\\lib\\site-packages (from typer<1.0.0,>=0.3.0->spacy) (8.1.7)\n",
      "Requirement already satisfied: markdown-it-py>=2.2.0 in c:\\users\\prana\\appdata\\local\\programs\\python\\python310\\lib\\site-packages (from rich>=10.11.0->typer<1.0.0,>=0.3.0->spacy) (3.0.0)\n",
      "Requirement already satisfied: pygments<3.0.0,>=2.13.0 in c:\\users\\prana\\appdata\\local\\programs\\python\\python310\\lib\\site-packages (from rich>=10.11.0->typer<1.0.0,>=0.3.0->spacy) (2.18.0)\n",
      "Requirement already satisfied: mdurl~=0.1 in c:\\users\\prana\\appdata\\local\\programs\\python\\python310\\lib\\site-packages (from markdown-it-py>=2.2.0->rich>=10.11.0->typer<1.0.0,>=0.3.0->spacy) (0.1.2)\n",
      "Requirement already satisfied: smart-open<8.0.0,>=5.2.1 in c:\\users\\prana\\appdata\\local\\programs\\python\\python310\\lib\\site-packages (from weasel<0.5.0,>=0.1.0->spacy) (7.1.0)\n",
      "Requirement already satisfied: cloudpathlib<1.0.0,>=0.7.0 in c:\\users\\prana\\appdata\\local\\programs\\python\\python310\\lib\\site-packages (from weasel<0.5.0,>=0.1.0->spacy) (0.21.1)\n",
      "Requirement already satisfied: wrapt in c:\\users\\prana\\appdata\\local\\programs\\python\\python310\\lib\\site-packages (from smart-open<8.0.0,>=5.2.1->weasel<0.5.0,>=0.1.0->spacy) (1.17.2)\n",
      "Requirement already satisfied: MarkupSafe>=2.0 in c:\\users\\prana\\appdata\\local\\programs\\python\\python310\\lib\\site-packages (from jinja2->spacy) (3.0.1)\n"
     ]
    },
    {
     "name": "stderr",
     "output_type": "stream",
     "text": [
      "WARNING: You are using pip version 21.2.4; however, version 25.1.1 is available.\n",
      "You should consider upgrading via the 'C:\\Users\\prana\\AppData\\Local\\Programs\\Python\\Python310\\python.exe -m pip install --upgrade pip' command.\n"
     ]
    }
   ],
   "source": [
    "# Install required libraries\n",
    "!pip install PyMuPDF spacy tqdm"
   ]
  },
  {
   "cell_type": "code",
   "execution_count": 4,
   "id": "59b2e3f8-fcc8-43ed-8d3b-8fe3a92ef24a",
   "metadata": {},
   "outputs": [
    {
     "name": "stdout",
     "output_type": "stream",
     "text": [
      "Collecting en-core-web-sm==3.8.0\n",
      "  Downloading https://github.com/explosion/spacy-models/releases/download/en_core_web_sm-3.8.0/en_core_web_sm-3.8.0-py3-none-any.whl (12.8 MB)\n",
      "\u001b[38;5;2m[+] Download and installation successful\u001b[0m\n",
      "You can now load the package via spacy.load('en_core_web_sm')\n"
     ]
    },
    {
     "name": "stderr",
     "output_type": "stream",
     "text": [
      "WARNING: You are using pip version 21.2.4; however, version 25.1.1 is available.\n",
      "You should consider upgrading via the 'C:\\Users\\prana\\AppData\\Local\\Programs\\Python\\Python310\\python.exe -m pip install --upgrade pip' command.\n"
     ]
    }
   ],
   "source": [
    "!python -m spacy download en_core_web_sm"
   ]
  },
  {
   "cell_type": "code",
   "execution_count": 5,
   "id": "124606a1-e60b-49cc-8395-04c2f7e70333",
   "metadata": {},
   "outputs": [],
   "source": [
    "import fitz  # PyMuPDF\n",
    "import spacy\n",
    "import re\n",
    "import json\n",
    "from tqdm import tqdm\n",
    "\n",
    "# Load Spacy NER model\n",
    "nlp = spacy.load(\"en_core_web_sm\")"
   ]
  },
  {
   "cell_type": "code",
   "execution_count": 6,
   "id": "493983b8-5981-4cd4-a8ca-aed1fba00497",
   "metadata": {},
   "outputs": [],
   "source": [
    "# To Extract Text from PDF\n",
    "def extract_text_from_pdf(pdf_path):\n",
    "    doc = fitz.open(pdf_path)\n",
    "    full_text = \"\"\n",
    "    page_texts = []\n",
    "    for page in doc:\n",
    "        text = page.get_text()\n",
    "        full_text += text + \"\\n\"\n",
    "        page_texts.append(text)\n",
    "    return full_text, page_texts"
   ]
  },
  {
   "cell_type": "code",
   "execution_count": 7,
   "id": "e11353a6-5c3a-4a98-9657-c2d03c16d665",
   "metadata": {},
   "outputs": [],
   "source": [
    "def segment_document(text):\n",
    "    pattern = re.compile(r\"\\n?\\s*(\\d+)\\.\\s+([^\\n]+)\")\n",
    "    matches = list(pattern.finditer(text))\n",
    "    segments = []\n",
    "\n",
    "    for i, match in enumerate(matches):\n",
    "        segment_title = match.group(2).strip()\n",
    "        start_idx = match.start()\n",
    "        end_idx = matches[i + 1].start() if i + 1 < len(matches) else len(text)\n",
    "        segment_text = text[start_idx:end_idx].strip()\n",
    "\n",
    "        segments.append({\n",
    "            \"segment_level\": i+1,\n",
    "            \"segment_title\": segment_title,\n",
    "            \"segment_text\": segment_text,\n",
    "            \"segment_date\": extract_date(segment_text),\n",
    "            #\"segment_source\": extract_source(segment_text),\n",
    "            \"start_index\": start_idx,\n",
    "            \"end_index\": end_idx,\n",
    "            \"named_entities\": extract_named_entities(segment_text),\n",
    "        })\n",
    "\n",
    "    return segments\n"
   ]
  },
  {
   "cell_type": "code",
   "execution_count": 8,
   "id": "7d5a908f-b8cc-403f-8066-8d28bb8a9026",
   "metadata": {},
   "outputs": [],
   "source": [
    "# Named Entity Recognition\n",
    "def extract_named_entities(segment_text):\n",
    "    doc = nlp(segment_text)\n",
    "    entities = {\"persons\": [], \"organizations\": [], \"locations\": [], \"dates\": []}\n",
    "\n",
    "    for ent in doc.ents:\n",
    "        if ent.label_ == \"PERSON\":\n",
    "            entities[\"persons\"].append(ent.text)\n",
    "        elif ent.label_ == \"ORG\":\n",
    "            entities[\"organizations\"].append(ent.text)\n",
    "        elif ent.label_ == \"GPE\":\n",
    "            entities[\"locations\"].append(ent.text)\n",
    "        elif ent.label_ == \"DATE\":\n",
    "            entities[\"dates\"].append(ent.text)\n",
    "\n",
    "    return {k: list(set(v)) for k, v in entities.items()}"
   ]
  },
  {
   "cell_type": "code",
   "execution_count": 9,
   "id": "0c6ae7f1-2277-4ec4-ab58-36285eea065e",
   "metadata": {},
   "outputs": [],
   "source": [
    "# For extracting date\n",
    "def extract_date(text):\n",
    "    dates = re.findall(r\"\\b(?:\\d{4}|\\d{2}/\\d{2}/\\d{4})\\b\", text)\n",
    "    return dates[0] if dates else None"
   ]
  },
  {
   "cell_type": "code",
   "execution_count": 10,
   "id": "3e9195b8-1508-41db-9084-815c4eda1d5f",
   "metadata": {},
   "outputs": [],
   "source": [
    "# Full Pipeline\n",
    "def process_pdf(pdf_path):\n",
    "    full_text, _ = extract_text_from_pdf(pdf_path)\n",
    "    segments = segment_document(full_text)\n",
    "\n",
    "    for seg in tqdm(segments, desc=\"Processing segments\"):\n",
    "        seg[\"named_entities\"] = extract_named_entities(seg[\"segment_text\"])\n",
    "\n",
    "    return segments"
   ]
  },
  {
   "cell_type": "code",
   "execution_count": 11,
   "id": "f0fae643-326b-446a-9c96-62682534a60c",
   "metadata": {
    "scrolled": true
   },
   "outputs": [
    {
     "name": "stderr",
     "output_type": "stream",
     "text": [
      "Processing segments: 100%|███████████████████████████████████████████████████████████████| 5/5 [00:00<00:00, 57.48it/s]"
     ]
    },
    {
     "name": "stdout",
     "output_type": "stream",
     "text": [
      "[\n",
      "    {\n",
      "        \"segment_level\": 1,\n",
      "        \"segment_title\": \"Market Overview\",\n",
      "        \"segment_text\": \"1. Market Overview\\nMarket Overview prepared by Research Team A highlights critical developments in the sector.\\nKey data was collected from international institutions such as World Bank. Primary analysis was led\\nby Alice Johnson, \\nwith support from on-ground teams in New York. This segment consolidates relevant findings up to\\n2022-11-01, \\npresenting an actionable summary for stakeholders.\",\n",
      "        \"segment_date\": \"2022\",\n",
      "        \"start_index\": 22,\n",
      "        \"end_index\": 413,\n",
      "        \"named_entities\": {\n",
      "            \"persons\": [\n",
      "                \"Alice Johnson\"\n",
      "            ],\n",
      "            \"organizations\": [\n",
      "                \"Research Team\",\n",
      "                \"World Bank\"\n",
      "            ],\n",
      "            \"locations\": [\n",
      "                \"New York\"\n",
      "            ],\n",
      "            \"dates\": [\n",
      "                \"2022-11-01\"\n",
      "            ]\n",
      "        }\n",
      "    },\n",
      "    {\n",
      "        \"segment_level\": 2,\n",
      "        \"segment_title\": \"Economic Analysis\",\n",
      "        \"segment_text\": \"2. Economic Analysis\\nEconomic Analysis prepared by Research Team B highlights critical developments in the sector.\\nKey data was collected from international institutions such as UNICEF. Primary analysis was led by\\nMichael Smith, \\nwith support from on-ground teams in London. This segment consolidates relevant findings up to\\n2023-03-15, \\npresenting an actionable summary for stakeholders.\",\n",
      "        \"segment_date\": \"2023\",\n",
      "        \"start_index\": 413,\n",
      "        \"end_index\": 802,\n",
      "        \"named_entities\": {\n",
      "            \"persons\": [\n",
      "                \"Michael Smith\"\n",
      "            ],\n",
      "            \"organizations\": [\n",
      "                \"Research Team\",\n",
      "                \"UNICEF\"\n",
      "            ],\n",
      "            \"locations\": [\n",
      "                \"London\"\n",
      "            ],\n",
      "            \"dates\": [\n",
      "                \"2023-03-15\"\n",
      "            ]\n",
      "        }\n",
      "    },\n",
      "    {\n",
      "        \"segment_level\": 3,\n",
      "        \"segment_title\": \"Health Sector Review\",\n",
      "        \"segment_text\": \"3. Health Sector Review\\nHealth Sector Review prepared by Analysis Group highlights critical developments in the sector.\\nKey data was collected from international institutions such as IMF. Primary analysis was led by Sara\\nLee, \\nwith support from on-ground teams in Tokyo. This segment consolidates relevant findings up to\\n2021-08-20, \\npresenting an actionable summary for stakeholders.\",\n",
      "        \"segment_date\": \"2021\",\n",
      "        \"start_index\": 802,\n",
      "        \"end_index\": 1187,\n",
      "        \"named_entities\": {\n",
      "            \"persons\": [\n",
      "                \"Sara\\nLee\"\n",
      "            ],\n",
      "            \"organizations\": [\n",
      "                \"Analysis Group\",\n",
      "                \"IMF\"\n",
      "            ],\n",
      "            \"locations\": [\n",
      "                \"Tokyo\"\n",
      "            ],\n",
      "            \"dates\": [\n",
      "                \"2021-08-20\"\n",
      "            ]\n",
      "        }\n",
      "    },\n",
      "    {\n",
      "        \"segment_level\": 4,\n",
      "        \"segment_title\": \"Technology Trends\",\n",
      "        \"segment_text\": \"4. Technology Trends\\nTechnology Trends prepared by Field Ops Team highlights critical developments in the sector.\\n\\nKey data was collected from international institutions such as OECD. Primary analysis was led by\\nDavid Brown, \\nwith support from on-ground teams in Geneva. This segment consolidates relevant findings up to\\n2024-01-10, \\npresenting an actionable summary for stakeholders.\",\n",
      "        \"segment_date\": \"2024\",\n",
      "        \"start_index\": 1187,\n",
      "        \"end_index\": 1572,\n",
      "        \"named_entities\": {\n",
      "            \"persons\": [\n",
      "                \"David Brown\"\n",
      "            ],\n",
      "            \"organizations\": [\n",
      "                \"OECD\",\n",
      "                \"Field Ops Team\"\n",
      "            ],\n",
      "            \"locations\": [\n",
      "                \"Geneva\"\n",
      "            ],\n",
      "            \"dates\": [\n",
      "                \"2024-01-10\"\n",
      "            ]\n",
      "        }\n",
      "    },\n",
      "    {\n",
      "        \"segment_level\": 5,\n",
      "        \"segment_title\": \"Education Policy Summary\",\n",
      "        \"segment_text\": \"5. Education Policy Summary\\nEducation Policy Summary prepared by Strategy Division highlights critical developments in the\\nsector.\\nKey data was collected from international institutions such as WHO. Primary analysis was led by\\nEmily Davis, \\nwith support from on-ground teams in Berlin. This segment consolidates relevant findings up to\\n2020-12-05, \\npresenting an actionable summary for stakeholders.\",\n",
      "        \"segment_date\": \"2020\",\n",
      "        \"start_index\": 1572,\n",
      "        \"end_index\": 1974,\n",
      "        \"named_entities\": {\n",
      "            \"persons\": [\n",
      "                \"Emily Davis\"\n",
      "            ],\n",
      "            \"organizations\": [\n",
      "                \"WHO\"\n",
      "            ],\n",
      "            \"locations\": [\n",
      "                \"Berlin\"\n",
      "            ],\n",
      "            \"dates\": [\n",
      "                \"2020-12-05\"\n",
      "            ]\n",
      "        }\n",
      "    }\n",
      "]\n"
     ]
    },
    {
     "name": "stderr",
     "output_type": "stream",
     "text": [
      "\n"
     ]
    }
   ],
   "source": [
    "import json \n",
    "\n",
    "if __name__ == \"__main__\":\n",
    "    pdf_path = r\"D:\\sample_unique_multipage_report.pdf\"\n",
    "    output_segments = process_pdf(pdf_path)\n",
    "\n",
    "    # Print result as formatted JSON to terminal\n",
    "    print(json.dumps(output_segments, indent=4, ensure_ascii=False))\n"
   ]
  },
  {
   "cell_type": "code",
   "execution_count": 12,
   "id": "2f005b7a-966f-4c60-99cc-c7bfb254d626",
   "metadata": {},
   "outputs": [
    {
     "name": "stderr",
     "output_type": "stream",
     "text": [
      "Processing segments: 100%|███████████████████████████████████████████████████████████████| 5/5 [00:00<00:00, 59.71it/s]\n"
     ]
    }
   ],
   "source": [
    "# We can convert Output to JSON\n",
    "def save_to_json(segments, output_path=\"output.json\"):\n",
    "    with open(output_path, \"w\", encoding=\"utf-8\") as f:\n",
    "        json.dump(segments, f, indent=4, ensure_ascii=False)\n",
    "\n",
    "# Run the pipeline\n",
    "if __name__ == \"__main__\":\n",
    "    pdf_path = \"D:\\sample_unique_multipage_report.pdf\"\n",
    "    output_segments = process_pdf(pdf_path)\n",
    "    save_to_json(output_segments)\n"
   ]
  },
  {
   "cell_type": "code",
   "execution_count": null,
   "id": "7364daeb-bddd-471a-8fff-d56f7b9807db",
   "metadata": {},
   "outputs": [],
   "source": []
  }
 ],
 "metadata": {
  "kernelspec": {
   "display_name": "Python 3 (ipykernel)",
   "language": "python",
   "name": "python3"
  },
  "language_info": {
   "codemirror_mode": {
    "name": "ipython",
    "version": 3
   },
   "file_extension": ".py",
   "mimetype": "text/x-python",
   "name": "python",
   "nbconvert_exporter": "python",
   "pygments_lexer": "ipython3",
   "version": "3.10.1"
  }
 },
 "nbformat": 4,
 "nbformat_minor": 5
}
